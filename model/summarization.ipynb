{
  "nbformat": 4,
  "nbformat_minor": 0,
  "metadata": {
    "colab": {
      "name": "Poetry Summarization",
      "provenance": [],
      "collapsed_sections": []
    },
    "kernelspec": {
      "name": "python3",
      "display_name": "Python 3"
    }
  },
  "cells": [
    {
      "cell_type": "markdown",
      "metadata": {
        "id": "Dk31rbYjSTYm"
      },
      "source": [
        "Install `txtai` & previously installed packages for pipeline"
      ]
    },
    {
      "cell_type": "code",
      "metadata": {
        "id": "XMQuuun2R06J"
      },
      "source": [
        "%%capture\n",
        "!pip install git+https://github.com/neuml/txtai#egg=txtai[pipeline]"
      ],
      "execution_count": 1,
      "outputs": []
    },
    {
      "cell_type": "markdown",
      "metadata": {
        "id": "PNPJ95cdTKSS"
      },
      "source": [
        "# Create a Summary instance\n",
        "\n",
        "The Summary instance is the main entrypoint for text summarization. Pipeline powered by Huggung Face Transformers."
      ]
    },
    {
      "cell_type": "code",
      "metadata": {
        "id": "nTDwXOUeTH2-"
      },
      "source": [
        "%%capture\n",
        "\n",
        "from txtai.pipeline import Summary\n",
        "\n",
        "# Create summary model\n",
        "summary = Summary()"
      ],
      "execution_count": 2,
      "outputs": []
    },
    {
      "cell_type": "markdown",
      "metadata": {
        "id": "-vGR_piwZZO6"
      },
      "source": [
        "# Summarize text"
      ]
    },
    {
      "cell_type": "code",
      "metadata": {
        "colab": {
          "base_uri": "https://localhost:8080/",
          "height": 35
        },
        "id": "-K2YJJzsVtfq",
        "outputId": "01d06967-c446-4936-813e-f60429170a58"
      },
      "source": [
        "text = (\"I pick up my pen and place it on the paper As the other hand grazes over the keys With the shift in a finger, I envision a sound, pleasing the ear, but nothing can suppress my spontaneous tears One note and the next, I play the keys My hopeless heart races at impossible speeds 2 pages in, I fail to breathe, Words and notes spill out of me Insanity or passion, no matter the roots Unable to stop, I shall compose I think of the happiest moments of “us” Then contrast when realizing how easy you opposed Opposed the hugs, Opposed the kisses, Opposed the times I would comfort you in my premises 6 and 7 pages I write But the torment my pen faces has no end in sight Ink deteriorates and burns in the heat As the pages engrave her senseless deceits Aggression and solemnity is abundant in the air Striking every note, I sense despair I sense flames, I sense fear I sense sadness, I sense pain I cannot adhere But in all the calamity, I stutter and stop Knocking the bottle off of the top I question myself, what shall I do And for the love of my hate, I tend to rip through I replace the nip and pierce my skin A wave of scarlet sparks up from within I think less and write more With a sharp flare emerging from my sore The moon hits high as the clock strikes 10, I must last 2 more hours, I cannot give in The piano chimes and my papers rustle My chamber itself erupts and bustles Suddenly I stop My sorrows now gone Tears in my eyes “What have I become” My tools and instruments engulfed in blood Keys now red, pages all sorted I reimagine my world without the sombre For loving can hurt, for loving can kill Loving yourself requires great skill I learn from these lessons And embrace the best But memories can’t fade As her eyes are Jade\"\n",
        ")\n",
        "\n",
        "summary(text, maxlength=30)"
      ],
      "execution_count": 5,
      "outputs": [
        {
          "output_type": "execute_result",
          "data": {
            "application/vnd.google.colaboratory.intrinsic+json": {
              "type": "string"
            },
            "text/plain": [
              "'Words and notes spill out of me Insanity or passion, no matter the roots Unable to stop, I shall compose I think of the'"
            ]
          },
          "metadata": {},
          "execution_count": 5
        }
      ]
    }
  ]
}